{
 "cells": [
  {
   "cell_type": "markdown",
   "id": "1783d4c5-abe0-4af2-bc1c-71aec42d5a9d",
   "metadata": {},
   "source": [
    "# Data Science Tools and Ecosystem\n"
   ]
  },
  {
   "cell_type": "markdown",
   "id": "b930ba34-af27-4345-9600-5590844d6af0",
   "metadata": {},
   "source": [
    "In this notebook, Data Science Tools and Ecosystem are summarized:"
   ]
  },
  {
   "cell_type": "markdown",
   "id": "ddf34659-3651-4432-8c91-01c9477d381d",
   "metadata": {},
   "source": [
    "Some of the popular languages that Data Scientists use are:\n",
    "1. python\n",
    "2. C++\n",
    "3. JAVA\n"
   ]
  },
  {
   "cell_type": "markdown",
   "id": "05315c74-f825-4ff7-82f1-cc6ce770a93e",
   "metadata": {},
   "source": [
    "Some of the commonly used libraries used by Data Scientists include:\n",
    "1. NumPy\n",
    "2. CKeras\n",
    "3. SciPy"
   ]
  },
  {
   "cell_type": "markdown",
   "id": "4b83506f-39bc-473f-a912-3f476dd63df7",
   "metadata": {},
   "source": [
    "|Data Science Tools|\n",
    "|---|\n",
    "|R Studio's|\n",
    "|Zeppelin Notebooks|\n",
    "|Jupyter Notebooks|"
   ]
  },
  {
   "cell_type": "code",
   "execution_count": 4,
   "id": "ee722bbf-c801-49d0-993f-aa7a7271412c",
   "metadata": {},
   "outputs": [
    {
     "data": {
      "text/plain": [
       "9"
      ]
     },
     "execution_count": 4,
     "metadata": {},
     "output_type": "execute_result"
    }
   ],
   "source": [
    "# Arithmetic operations\n",
    "code = compile(\"5 + 4\", \"<string>\", \"eval\")\n",
    "eval(code)\n"
   ]
  },
  {
   "cell_type": "code",
   "execution_count": 5,
   "id": "19d0df62-190c-437d-b444-7950947185f1",
   "metadata": {},
   "outputs": [
    {
     "data": {
      "text/plain": [
       "17"
      ]
     },
     "execution_count": 5,
     "metadata": {},
     "output_type": "execute_result"
    }
   ],
   "source": [
    "##This a simple arithmetic expression to mutiply then add integers.\n",
    "(3*4)+5"
   ]
  },
  {
   "cell_type": "code",
   "execution_count": 6,
   "id": "fdf96e9b-4f68-4093-b3e0-9ce9f10fe0e1",
   "metadata": {},
   "outputs": [
    {
     "data": {
      "text/plain": [
       "3.3333333333333335"
      ]
     },
     "execution_count": 6,
     "metadata": {},
     "output_type": "execute_result"
    }
   ],
   "source": [
    "##This will convert 200 minutes to hours by diving by 60.\n",
    "200/60"
   ]
  },
  {
   "cell_type": "markdown",
   "id": "830c1cef-68dc-41d4-b4ee-d23e653e8009",
   "metadata": {},
   "source": [
    "_Objectives:_\n",
    "* How to make rows and columns\n",
    "* how to convert numbers\n",
    "* how to use arthims expressions"
   ]
  },
  {
   "cell_type": "markdown",
   "id": "b53c5aef-a946-4cc8-bc18-a387908e0f6e",
   "metadata": {},
   "source": [
    "## Author\n",
    "Taha"
   ]
  },
  {
   "cell_type": "code",
   "execution_count": null,
   "id": "939c1ec2-b3c7-4cc3-aca4-61eda88c5b99",
   "metadata": {},
   "outputs": [],
   "source": []
  }
 ],
 "metadata": {
  "kernelspec": {
   "display_name": "Python 3 (ipykernel)",
   "language": "python",
   "name": "python3"
  },
  "language_info": {
   "codemirror_mode": {
    "name": "ipython",
    "version": 3
   },
   "file_extension": ".py",
   "mimetype": "text/x-python",
   "name": "python",
   "nbconvert_exporter": "python",
   "pygments_lexer": "ipython3",
   "version": "3.11.9"
  }
 },
 "nbformat": 4,
 "nbformat_minor": 5
}
